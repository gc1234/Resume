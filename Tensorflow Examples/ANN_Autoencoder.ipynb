{
  "nbformat": 4,
  "nbformat_minor": 0,
  "metadata": {
    "colab": {
      "name": "ANN_Autoencoder.ipynb",
      "provenance": [],
      "collapsed_sections": []
    },
    "kernelspec": {
      "name": "python3",
      "display_name": "Python 3"
    },
    "accelerator": "GPU"
  },
  "cells": [
    {
      "cell_type": "code",
      "metadata": {
        "id": "TeCLC_HJCtpf",
        "colab_type": "code",
        "colab": {
          "base_uri": "https://localhost:8080/",
          "height": 34
        },
        "outputId": "04f9f927-3fe5-4350-94b3-696f5b1c05a7"
      },
      "source": [
        "%tensorflow_version 2.x\n",
        "import tensorflow as tf"
      ],
      "execution_count": 1,
      "outputs": [
        {
          "output_type": "stream",
          "text": [
            "TensorFlow 2.x selected.\n"
          ],
          "name": "stdout"
        }
      ]
    },
    {
      "cell_type": "code",
      "metadata": {
        "id": "5ZTh4Zz9C0VP",
        "colab_type": "code",
        "colab": {
          "base_uri": "https://localhost:8080/",
          "height": 68
        },
        "outputId": "c4e48873-6220-4ad1-91b9-84ee0263b293"
      },
      "source": [
        "#Load data\n",
        "mnist = tf.keras.datasets.mnist\n",
        "\n",
        "(x_train, y_train), (x_test, y_test) = mnist.load_data()\n",
        "x_train, x_test = x_train / 255.0, x_test / 255.0\n",
        "sample, sample_label = x_train[0], y_train[0]\n",
        "x_train.shape"
      ],
      "execution_count": 2,
      "outputs": [
        {
          "output_type": "stream",
          "text": [
            "Downloading data from https://storage.googleapis.com/tensorflow/tf-keras-datasets/mnist.npz\n",
            "11493376/11490434 [==============================] - 0s 0us/step\n"
          ],
          "name": "stdout"
        },
        {
          "output_type": "execute_result",
          "data": {
            "text/plain": [
              "(60000, 28, 28)"
            ]
          },
          "metadata": {
            "tags": []
          },
          "execution_count": 2
        }
      ]
    },
    {
      "cell_type": "markdown",
      "metadata": {
        "id": "s35So0tqDqVV",
        "colab_type": "text"
      },
      "source": [
        "# ANN Autoencoder"
      ]
    },
    {
      "cell_type": "code",
      "metadata": {
        "id": "2a9E5S_sC0tr",
        "colab_type": "code",
        "colab": {
          "base_uri": "https://localhost:8080/",
          "height": 425
        },
        "outputId": "6a3aec1c-2b7f-46e0-d665-32580f222ca3"
      },
      "source": [
        "activation = 'relu'\n",
        "autoencoder_input = tf.keras.Input(shape=(28, 28), name='original_img')\n",
        "x = tf.keras.layers.Flatten()(autoencoder_input)\n",
        "x = tf.keras.layers.Dense(784, activation=activation)(x)\n",
        "x = tf.keras.layers.Dense(512, activation=activation)(x)\n",
        "x = tf.keras.layers.Dense(256, activation=activation)(x)\n",
        "x = tf.keras.layers.Dense(512, activation=activation)(x)\n",
        "x = tf.keras.layers.Dense(784, activation=activation)(x)\n",
        "autoencoder_output = tf.keras.layers.Reshape((28, 28))(x)\n",
        "\n",
        "autoencoder = tf.keras.Model(autoencoder_input, autoencoder_output, name='autoencoder')\n",
        "autoencoder.summary()"
      ],
      "execution_count": 5,
      "outputs": [
        {
          "output_type": "stream",
          "text": [
            "Model: \"autoencoder\"\n",
            "_________________________________________________________________\n",
            "Layer (type)                 Output Shape              Param #   \n",
            "=================================================================\n",
            "original_img (InputLayer)    [(None, 28, 28)]          0         \n",
            "_________________________________________________________________\n",
            "flatten_1 (Flatten)          (None, 784)               0         \n",
            "_________________________________________________________________\n",
            "dense_5 (Dense)              (None, 784)               615440    \n",
            "_________________________________________________________________\n",
            "dense_6 (Dense)              (None, 512)               401920    \n",
            "_________________________________________________________________\n",
            "dense_7 (Dense)              (None, 256)               131328    \n",
            "_________________________________________________________________\n",
            "dense_8 (Dense)              (None, 512)               131584    \n",
            "_________________________________________________________________\n",
            "dense_9 (Dense)              (None, 784)               402192    \n",
            "_________________________________________________________________\n",
            "reshape_1 (Reshape)          (None, 28, 28)            0         \n",
            "=================================================================\n",
            "Total params: 1,682,464\n",
            "Trainable params: 1,682,464\n",
            "Non-trainable params: 0\n",
            "_________________________________________________________________\n"
          ],
          "name": "stdout"
        }
      ]
    },
    {
      "cell_type": "code",
      "metadata": {
        "id": "mmeZWJQDC0hM",
        "colab_type": "code",
        "colab": {
          "base_uri": "https://localhost:8080/",
          "height": 1000
        },
        "outputId": "b5d23946-5154-4045-ccc9-10bda2057dd9"
      },
      "source": [
        "autoencoder.compile(tf.keras.optimizers.Adam(learning_rate=1e-3), loss=tf.keras.losses.MeanSquaredError())\n",
        "callback = [tf.keras.callbacks.EarlyStopping(monitor='val_loss', patience=3)]\n",
        "autoencoder.fit(x_train, x_train, epochs=50, validation_split=0.2, batch_size=32, callbacks=callback, shuffle=True)"
      ],
      "execution_count": 6,
      "outputs": [
        {
          "output_type": "stream",
          "text": [
            "Train on 48000 samples, validate on 12000 samples\n",
            "Epoch 1/50\n",
            "48000/48000 [==============================] - 7s 137us/sample - loss: 0.0161 - val_loss: 0.0116\n",
            "Epoch 2/50\n",
            "48000/48000 [==============================] - 5s 94us/sample - loss: 0.0110 - val_loss: 0.0104\n",
            "Epoch 3/50\n",
            "48000/48000 [==============================] - 5s 95us/sample - loss: 0.0101 - val_loss: 0.0098\n",
            "Epoch 4/50\n",
            "48000/48000 [==============================] - 4s 94us/sample - loss: 0.0096 - val_loss: 0.0095\n",
            "Epoch 5/50\n",
            "48000/48000 [==============================] - 5s 95us/sample - loss: 0.0093 - val_loss: 0.0093\n",
            "Epoch 6/50\n",
            "48000/48000 [==============================] - 5s 94us/sample - loss: 0.0090 - val_loss: 0.0090\n",
            "Epoch 7/50\n",
            "48000/48000 [==============================] - 5s 95us/sample - loss: 0.0089 - val_loss: 0.0089\n",
            "Epoch 8/50\n",
            "48000/48000 [==============================] - 5s 96us/sample - loss: 0.0087 - val_loss: 0.0089\n",
            "Epoch 9/50\n",
            "48000/48000 [==============================] - 5s 94us/sample - loss: 0.0082 - val_loss: 0.0081\n",
            "Epoch 10/50\n",
            "48000/48000 [==============================] - 4s 93us/sample - loss: 0.0081 - val_loss: 0.0080\n",
            "Epoch 11/50\n",
            "48000/48000 [==============================] - 5s 94us/sample - loss: 0.0080 - val_loss: 0.0081\n",
            "Epoch 12/50\n",
            "48000/48000 [==============================] - 5s 94us/sample - loss: 0.0079 - val_loss: 0.0079\n",
            "Epoch 13/50\n",
            "48000/48000 [==============================] - 5s 96us/sample - loss: 0.0079 - val_loss: 0.0078\n",
            "Epoch 14/50\n",
            "48000/48000 [==============================] - 5s 100us/sample - loss: 0.0078 - val_loss: 0.0077\n",
            "Epoch 15/50\n",
            "48000/48000 [==============================] - 5s 96us/sample - loss: 0.0077 - val_loss: 0.0077\n",
            "Epoch 16/50\n",
            "48000/48000 [==============================] - 4s 93us/sample - loss: 0.0077 - val_loss: 0.0078\n",
            "Epoch 17/50\n",
            "48000/48000 [==============================] - 4s 92us/sample - loss: 0.0076 - val_loss: 0.0077\n",
            "Epoch 18/50\n",
            "48000/48000 [==============================] - 4s 92us/sample - loss: 0.0076 - val_loss: 0.0076\n",
            "Epoch 19/50\n",
            "48000/48000 [==============================] - 4s 92us/sample - loss: 0.0076 - val_loss: 0.0075\n",
            "Epoch 20/50\n",
            "48000/48000 [==============================] - 5s 95us/sample - loss: 0.0075 - val_loss: 0.0076\n",
            "Epoch 21/50\n",
            "48000/48000 [==============================] - 4s 92us/sample - loss: 0.0075 - val_loss: 0.0075\n",
            "Epoch 22/50\n",
            "48000/48000 [==============================] - 4s 93us/sample - loss: 0.0075 - val_loss: 0.0075\n",
            "Epoch 23/50\n",
            "48000/48000 [==============================] - 5s 95us/sample - loss: 0.0074 - val_loss: 0.0073\n",
            "Epoch 24/50\n",
            "48000/48000 [==============================] - 5s 94us/sample - loss: 0.0074 - val_loss: 0.0075\n",
            "Epoch 25/50\n",
            "48000/48000 [==============================] - 4s 93us/sample - loss: 0.0074 - val_loss: 0.0073\n",
            "Epoch 26/50\n",
            "48000/48000 [==============================] - 4s 92us/sample - loss: 0.0074 - val_loss: 0.0075\n",
            "Epoch 27/50\n",
            "48000/48000 [==============================] - 4s 94us/sample - loss: 0.0073 - val_loss: 0.0075\n",
            "Epoch 28/50\n",
            "48000/48000 [==============================] - 4s 93us/sample - loss: 0.0073 - val_loss: 0.0074\n"
          ],
          "name": "stdout"
        },
        {
          "output_type": "execute_result",
          "data": {
            "text/plain": [
              "<tensorflow.python.keras.callbacks.History at 0x7f9438531f28>"
            ]
          },
          "metadata": {
            "tags": []
          },
          "execution_count": 6
        }
      ]
    },
    {
      "cell_type": "code",
      "metadata": {
        "id": "ucxObY-ZC0fx",
        "colab_type": "code",
        "colab": {
          "base_uri": "https://localhost:8080/",
          "height": 51
        },
        "outputId": "bf420d74-cd4b-40f7-ea36-3e8d6f4675e9"
      },
      "source": [
        "# Prediction on training\n",
        "autoencoder.evaluate(x_train, x_train, verbose=2)"
      ],
      "execution_count": 7,
      "outputs": [
        {
          "output_type": "stream",
          "text": [
            "60000/60000 - 3s - loss: 0.0073\n"
          ],
          "name": "stdout"
        },
        {
          "output_type": "execute_result",
          "data": {
            "text/plain": [
              "0.0073259227309376"
            ]
          },
          "metadata": {
            "tags": []
          },
          "execution_count": 7
        }
      ]
    },
    {
      "cell_type": "code",
      "metadata": {
        "id": "z1_jJlXlC0Zd",
        "colab_type": "code",
        "colab": {
          "base_uri": "https://localhost:8080/",
          "height": 51
        },
        "outputId": "693eaef7-e13b-4896-b20b-e0884a7ebf7a"
      },
      "source": [
        "# Prediction on test\n",
        "autoencoder.evaluate(x_test,  x_test, verbose=2)"
      ],
      "execution_count": 8,
      "outputs": [
        {
          "output_type": "stream",
          "text": [
            "10000/10000 - 1s - loss: 0.0073\n"
          ],
          "name": "stdout"
        },
        {
          "output_type": "execute_result",
          "data": {
            "text/plain": [
              "0.007263591511547565"
            ]
          },
          "metadata": {
            "tags": []
          },
          "execution_count": 8
        }
      ]
    },
    {
      "cell_type": "code",
      "metadata": {
        "id": "zsVxh8eEC0YC",
        "colab_type": "code",
        "colab": {}
      },
      "source": [
        ""
      ],
      "execution_count": 0,
      "outputs": []
    },
    {
      "cell_type": "markdown",
      "metadata": {
        "id": "xi_wK5P3Dbou",
        "colab_type": "text"
      },
      "source": [
        "# Test ANN Autoencoder"
      ]
    },
    {
      "cell_type": "code",
      "metadata": {
        "id": "CAkCTV5eDM1E",
        "colab_type": "code",
        "colab": {}
      },
      "source": [
        "auc_x_train = autoencoder.predict(x_train)\n",
        "auc_x_test = autoencoder.predict(x_test)"
      ],
      "execution_count": 0,
      "outputs": []
    },
    {
      "cell_type": "code",
      "metadata": {
        "id": "rry4HbEkDNlO",
        "colab_type": "code",
        "colab": {}
      },
      "source": [
        "tf.random.set_seed(0)\n",
        "\n",
        "model = tf.keras.models.Sequential([\n",
        "    tf.keras.layers.Flatten(input_shape=(28, 28)),\n",
        "    tf.keras.layers.Dense(128, activation='relu'),\n",
        "    tf.keras.layers.Dropout(0.2),\n",
        "    tf.keras.layers.Dense(10, activation='softmax')\n",
        "])\n",
        "\n",
        "model.compile(optimizer='adam',\n",
        "              loss='sparse_categorical_crossentropy',\n",
        "              metrics=['accuracy'])"
      ],
      "execution_count": 0,
      "outputs": []
    },
    {
      "cell_type": "code",
      "metadata": {
        "id": "7mhwsrpPDNoo",
        "colab_type": "code",
        "colab": {
          "base_uri": "https://localhost:8080/",
          "height": 629
        },
        "outputId": "e3c84264-a669-4bd1-89e2-2f4fbcdc508c"
      },
      "source": [
        "callback = [tf.keras.callbacks.EarlyStopping(monitor='val_loss', patience=5)]\n",
        "model.fit(auc_x_train, y_train, epochs=100, validation_split=0.2, callbacks=callback)"
      ],
      "execution_count": 11,
      "outputs": [
        {
          "output_type": "stream",
          "text": [
            "Train on 48000 samples, validate on 12000 samples\n",
            "Epoch 1/100\n",
            "48000/48000 [==============================] - 4s 88us/sample - loss: 0.3435 - accuracy: 0.8999 - val_loss: 0.1654 - val_accuracy: 0.9528\n",
            "Epoch 2/100\n",
            "48000/48000 [==============================] - 4s 83us/sample - loss: 0.1673 - accuracy: 0.9493 - val_loss: 0.1191 - val_accuracy: 0.9643\n",
            "Epoch 3/100\n",
            "48000/48000 [==============================] - 4s 81us/sample - loss: 0.1281 - accuracy: 0.9612 - val_loss: 0.1018 - val_accuracy: 0.9691\n",
            "Epoch 4/100\n",
            "48000/48000 [==============================] - 4s 82us/sample - loss: 0.1061 - accuracy: 0.9685 - val_loss: 0.0972 - val_accuracy: 0.9718\n",
            "Epoch 5/100\n",
            "48000/48000 [==============================] - 4s 82us/sample - loss: 0.0936 - accuracy: 0.9705 - val_loss: 0.0877 - val_accuracy: 0.9741\n",
            "Epoch 6/100\n",
            "48000/48000 [==============================] - 4s 83us/sample - loss: 0.0807 - accuracy: 0.9746 - val_loss: 0.0861 - val_accuracy: 0.9743\n",
            "Epoch 7/100\n",
            "48000/48000 [==============================] - 4s 81us/sample - loss: 0.0745 - accuracy: 0.9765 - val_loss: 0.0815 - val_accuracy: 0.9751\n",
            "Epoch 8/100\n",
            "48000/48000 [==============================] - 4s 82us/sample - loss: 0.0686 - accuracy: 0.9790 - val_loss: 0.0767 - val_accuracy: 0.9758\n",
            "Epoch 9/100\n",
            "48000/48000 [==============================] - 4s 82us/sample - loss: 0.0631 - accuracy: 0.9803 - val_loss: 0.0797 - val_accuracy: 0.9762\n",
            "Epoch 10/100\n",
            "48000/48000 [==============================] - 4s 83us/sample - loss: 0.0577 - accuracy: 0.9818 - val_loss: 0.0773 - val_accuracy: 0.9782\n",
            "Epoch 11/100\n",
            "48000/48000 [==============================] - 4s 82us/sample - loss: 0.0550 - accuracy: 0.9825 - val_loss: 0.0788 - val_accuracy: 0.9774\n",
            "Epoch 12/100\n",
            "48000/48000 [==============================] - 4s 84us/sample - loss: 0.0535 - accuracy: 0.9819 - val_loss: 0.0724 - val_accuracy: 0.9790\n",
            "Epoch 13/100\n",
            "48000/48000 [==============================] - 4s 84us/sample - loss: 0.0469 - accuracy: 0.9846 - val_loss: 0.0844 - val_accuracy: 0.9757\n",
            "Epoch 14/100\n",
            "48000/48000 [==============================] - 4s 82us/sample - loss: 0.0465 - accuracy: 0.9845 - val_loss: 0.0801 - val_accuracy: 0.9772\n",
            "Epoch 15/100\n",
            "48000/48000 [==============================] - 4s 85us/sample - loss: 0.0442 - accuracy: 0.9854 - val_loss: 0.0753 - val_accuracy: 0.9780\n",
            "Epoch 16/100\n",
            "48000/48000 [==============================] - 4s 83us/sample - loss: 0.0397 - accuracy: 0.9866 - val_loss: 0.0780 - val_accuracy: 0.9792\n",
            "Epoch 17/100\n",
            "48000/48000 [==============================] - 4s 82us/sample - loss: 0.0391 - accuracy: 0.9873 - val_loss: 0.0842 - val_accuracy: 0.9780\n"
          ],
          "name": "stdout"
        },
        {
          "output_type": "execute_result",
          "data": {
            "text/plain": [
              "<tensorflow.python.keras.callbacks.History at 0x7f94382e0c88>"
            ]
          },
          "metadata": {
            "tags": []
          },
          "execution_count": 11
        }
      ]
    },
    {
      "cell_type": "code",
      "metadata": {
        "id": "M43NAOUtDNrQ",
        "colab_type": "code",
        "colab": {
          "base_uri": "https://localhost:8080/",
          "height": 51
        },
        "outputId": "1d8be0cc-833d-4b64-f848-8289d9ef23d8"
      },
      "source": [
        "model.evaluate(auc_x_train,  y_train, verbose=2)"
      ],
      "execution_count": 12,
      "outputs": [
        {
          "output_type": "stream",
          "text": [
            "60000/60000 - 3s - loss: 0.0311 - accuracy: 0.9911\n"
          ],
          "name": "stdout"
        },
        {
          "output_type": "execute_result",
          "data": {
            "text/plain": [
              "[0.031133462774875807, 0.99113333]"
            ]
          },
          "metadata": {
            "tags": []
          },
          "execution_count": 12
        }
      ]
    },
    {
      "cell_type": "code",
      "metadata": {
        "id": "eFDlvcm6DNuK",
        "colab_type": "code",
        "colab": {
          "base_uri": "https://localhost:8080/",
          "height": 51
        },
        "outputId": "16436ab8-2273-4738-9878-b46299092bbf"
      },
      "source": [
        "model.evaluate(auc_x_test,  y_test, verbose=2)"
      ],
      "execution_count": 13,
      "outputs": [
        {
          "output_type": "stream",
          "text": [
            "10000/10000 - 1s - loss: 0.0868 - accuracy: 0.9783\n"
          ],
          "name": "stdout"
        },
        {
          "output_type": "execute_result",
          "data": {
            "text/plain": [
              "[0.08678828507277503, 0.9783]"
            ]
          },
          "metadata": {
            "tags": []
          },
          "execution_count": 13
        }
      ]
    }
  ]
}